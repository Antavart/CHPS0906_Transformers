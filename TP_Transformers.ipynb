{
 "cells": [
  {
   "cell_type": "code",
   "execution_count": 78,
   "metadata": {},
   "outputs": [],
   "source": [
    "\n",
    "import torch\n",
    "import torch.nn as nn\n",
    "#%pip install torchvision\n",
    "import torchvision\n",
    "import torchvision.transforms as transforms\n",
    "import torch.nn.functional as F\n",
    "#%pip install einops\n",
    "import einops\n",
    "import matplotlib.pyplot as plt\n",
    "import numpy as np\n",
    "import math\n",
    "#from torch.utils.tensorboard import SummaryWriter\n"
   ]
  },
  {
   "cell_type": "markdown",
   "metadata": {},
   "source": [
    "## Le bon format"
   ]
  },
  {
   "cell_type": "markdown",
   "metadata": {},
   "source": [
    "### 1. Récupérer une image du Dataset ou Dataloader et affichez la."
   ]
  },
  {
   "cell_type": "code",
   "execution_count": 79,
   "metadata": {},
   "outputs": [
    {
     "data": {
      "image/png": "[encoded data removed]",
      "text/plain": [
       "<Figure size 640x480 with 1 Axes>"
      ]
     },
     "metadata": {},
     "output_type": "display_data"
    }
   ],
   "source": [
    "trainset = torchvision.datasets.CIFAR10(\n",
    "    root='./data',\n",
    "    train=True,\n",
    "    download=True,\n",
    "    transform=transforms.ToTensor()\n",
    ")\n",
    "index = np.random.randint(len(trainset))\n",
    "image, label = trainset[index]\n",
    "\n",
    "image = image.permute(1, 2, 0).numpy()\n",
    "\n",
    "plt.imshow(image)\n",
    "plt.title(f\"Classe: {trainset.classes[label]}\")\n",
    "plt.axis(\"off\")\n",
    "plt.show()"
   ]
  },
  {
   "cell_type": "markdown",
   "metadata": {},
   "source": [
    "### 2. Calculer le nombre de patch nécessaire"
   ]
  },
  {
   "cell_type": "code",
   "execution_count": 80,
   "metadata": {},
   "outputs": [
    {
     "name": "stdout",
     "output_type": "stream",
     "text": [
      "64\n"
     ]
    }
   ],
   "source": [
    "height = 32\n",
    "width = 32\n",
    "color_channels = 3\n",
    "patch_size = 4 #votre valeur\n",
    "\n",
    "#Calcul du nombre de patchs\n",
    "number_of_patches = (height * width) // (patch_size**2)\n",
    "print(number_of_patches)"
   ]
  },
  {
   "cell_type": "markdown",
   "metadata": {},
   "source": [
    "### 3. Utiliser une convolution pour générer des patchs"
   ]
  },
  {
   "cell_type": "code",
   "execution_count": 81,
   "metadata": {},
   "outputs": [],
   "source": [
    "dim_in = color_channels\n",
    "dim_out = patch_size**2\n",
    "patchenizer = nn.Conv2d(dim_in,dim_out,kernel_size=patch_size,stride=patch_size)"
   ]
  },
  {
   "cell_type": "markdown",
   "metadata": {},
   "source": [
    "### 4.1 Créer un objet pour réaliser les patchs."
   ]
  },
  {
   "cell_type": "code",
   "execution_count": 82,
   "metadata": {},
   "outputs": [],
   "source": [
    "class Patch(nn.Module):\n",
    "    def __init__(self, dim_in, dim_out, patch_size):\n",
    "        super(Patch, self).__init__()\n",
    "        self.conv = nn.Conv2d(dim_in, dim_out, kernel_size=patch_size, stride=patch_size)\n",
    "    \n",
    "    def forward(self, x):\n",
    "        x = self.conv(x)\n",
    "        print(f\"Après convolution: {x.shape}\")  # Debug\n",
    "        x = x.flatten(2)\n",
    "        print(f\"Après flatten: {x.shape}\")  # Debug\n",
    "        x = x.permute(0, 2, 1)\n",
    "        print(f\"Après permute: {x.shape}\")  # Debug\n",
    "        return x.squeeze(0)\n",
    "\n"
   ]
  },
  {
   "cell_type": "markdown",
   "metadata": {},
   "source": [
    "### 4.2 Test des dimensions de l'objet"
   ]
  },
  {
   "cell_type": "code",
   "execution_count": 83,
   "metadata": {},
   "outputs": [
    {
     "name": "stdout",
     "output_type": "stream",
     "text": [
      "torch.Size([1, 3, 32, 32])\n",
      "Après convolution: torch.Size([1, 16, 8, 8])\n",
      "Après flatten: torch.Size([1, 16, 64])\n",
      "Après permute: torch.Size([1, 64, 16])\n",
      "torch.Size([64, 16])\n"
     ]
    }
   ],
   "source": [
    "model = Patch(dim_in,dim_out,patch_size)\n",
    "image, label = next(iter(trainset))\n",
    "image = image.unsqueeze(0)\n",
    "print(image.shape)\n",
    "res = model(image)\n",
    "print(res.shape)"
   ]
  },
  {
   "cell_type": "markdown",
   "metadata": {},
   "source": [
    "## Scaled Dot Product Attention"
   ]
  },
  {
   "cell_type": "markdown",
   "metadata": {},
   "source": [
    "### Calcul de l'attention via SoftMax"
   ]
  },
  {
   "cell_type": "code",
   "execution_count": 84,
   "metadata": {},
   "outputs": [],
   "source": [
    "def scaled_dot_product(q, k, v):\n",
    "        d_k = q.size()[-1]\n",
    "        attn_logits = torch.matmul(q,torch.transpose(k, 0, 1))#multiplication matricielle entre q et k\n",
    "        attn_logits = attn_logits/math.sqrt(d_k)#scaling avec d_k (voir equation)\n",
    "        attention = torch.softmax(attn_logits,dim=-1)#faire le softmax sur la dernière dimension\n",
    "        values = torch.matmul(attention,v)#multiplication matricielle avec v\n",
    "        return values"
   ]
  },
  {
   "cell_type": "markdown",
   "metadata": {},
   "source": [
    "### Test du scaled_dot_product"
   ]
  },
  {
   "cell_type": "code",
   "execution_count": 85,
   "metadata": {},
   "outputs": [
    {
     "name": "stdout",
     "output_type": "stream",
     "text": [
      "Q\n",
      " torch.Size([3, 2])\n",
      "K\n",
      " torch.Size([3, 2])\n",
      "V\n",
      " torch.Size([3, 2])\n",
      "Values\n",
      " torch.Size([3, 2])\n"
     ]
    }
   ],
   "source": [
    "seq_len, d_k = 3, 2\n",
    "q = torch.randn(seq_len, d_k)\n",
    "k = torch.randn(seq_len, d_k)\n",
    "v = torch.randn(seq_len, d_k)\n",
    "values = scaled_dot_product(q, k, v)\n",
    "print(\"Q\\n\", q.shape)\n",
    "print(\"K\\n\", k.shape)\n",
    "print(\"V\\n\", v.shape)\n",
    "print(\"Values\\n\", values.shape)"
   ]
  },
  {
   "cell_type": "markdown",
   "metadata": {},
   "source": [
    "### Définition de la classe qkv_proj et test avec le scaled_dot_product"
   ]
  },
  {
   "cell_type": "code",
   "execution_count": 92,
   "metadata": {},
   "outputs": [
    {
     "name": "stdout",
     "output_type": "stream",
     "text": [
      "Après proj: torch.Size([64, 48])\n",
      "q shape: torch.Size([64, 16])\n",
      "k shape: torch.Size([64, 16])\n",
      "v shape: torch.Size([64, 16])\n",
      "Q\n",
      " torch.Size([64, 16])\n",
      "K\n",
      " torch.Size([64, 16])\n",
      "V\n",
      " torch.Size([64, 16])\n",
      "Values\n",
      " torch.Size([64, 16])\n"
     ]
    }
   ],
   "source": [
    "class qkv_proj(nn.Module):\n",
    "    def __init__(self, d_in, d_out):\n",
    "        super().__init__()\n",
    "        self.proj = nn.Linear(d_in, d_out * 3)\n",
    "    def forward(self, x):\n",
    "        x = self.proj(x)\n",
    "        print(f\"Après proj: {x.shape}\")  # Debug\n",
    "        return x.chunk(3, dim=-1)\n",
    "    \n",
    "model = qkv_proj(dim_out,dim_out)\n",
    "\n",
    "q,k,v = model(res)\n",
    "print(f\"q shape: {q.shape}\")  \n",
    "print(f\"k shape: {k.shape}\")  \n",
    "print(f\"v shape: {v.shape}\")\n",
    "values = scaled_dot_product(q, k, v)\n",
    "print(\"Q\\n\", q.shape)\n",
    "print(\"K\\n\", k.shape)\n",
    "print(\"V\\n\", v.shape)\n",
    "print(\"Values\\n\", values.shape)\n"
   ]
  },
  {
   "cell_type": "markdown",
   "metadata": {},
   "source": [
    "## Multi-Head Attention"
   ]
  },
  {
   "cell_type": "code",
   "execution_count": null,
   "metadata": {},
   "outputs": [],
   "source": []
  },
  {
   "cell_type": "code",
   "execution_count": null,
   "metadata": {},
   "outputs": [
    {
     "name": "stdout",
     "output_type": "stream",
     "text": [
      "Using device: cpu\n"
     ]
    },
    {
     "ename": "TypeError",
     "evalue": "Patch.__init__() missing 3 required positional arguments: 'dim_in', 'dim_out', and 'patch_size'",
     "output_type": "error",
     "traceback": [
      "\u001b[1;31m---------------------------------------------------------------------------\u001b[0m",
      "\u001b[1;31mTypeError\u001b[0m                                 Traceback (most recent call last)",
      "Cell \u001b[1;32mIn[7], line 6\u001b[0m\n\u001b[0;32m      3\u001b[0m device \u001b[38;5;241m=\u001b[39m torch\u001b[38;5;241m.\u001b[39mdevice(\u001b[38;5;124m\"\u001b[39m\u001b[38;5;124mcuda\u001b[39m\u001b[38;5;124m\"\u001b[39m \u001b[38;5;28;01mif\u001b[39;00m torch\u001b[38;5;241m.\u001b[39mcuda\u001b[38;5;241m.\u001b[39mis_available() \u001b[38;5;28;01melse\u001b[39;00m \u001b[38;5;124m\"\u001b[39m\u001b[38;5;124mcpu\u001b[39m\u001b[38;5;124m\"\u001b[39m)\n\u001b[0;32m      4\u001b[0m \u001b[38;5;28mprint\u001b[39m(\u001b[38;5;124mf\u001b[39m\u001b[38;5;124m\"\u001b[39m\u001b[38;5;124mUsing device: \u001b[39m\u001b[38;5;132;01m{\u001b[39;00mdevice\u001b[38;5;132;01m}\u001b[39;00m\u001b[38;5;124m\"\u001b[39m)\n\u001b[1;32m----> 6\u001b[0m model \u001b[38;5;241m=\u001b[39m \u001b[43mPatch\u001b[49m\u001b[43m(\u001b[49m\u001b[43m)\u001b[49m\u001b[38;5;241m.\u001b[39mto(device)\n\u001b[0;32m      7\u001b[0m lossFn \u001b[38;5;241m=\u001b[39m nn\u001b[38;5;241m.\u001b[39mCrossEntropyLoss()\n\u001b[0;32m      8\u001b[0m opt \u001b[38;5;241m=\u001b[39m torch\u001b[38;5;241m.\u001b[39moptim\u001b[38;5;241m.\u001b[39mAdam(model\u001b[38;5;241m.\u001b[39mparameters(), lr\u001b[38;5;241m=\u001b[39mlearningRate)   \n",
      "\u001b[1;31mTypeError\u001b[0m: Patch.__init__() missing 3 required positional arguments: 'dim_in', 'dim_out', and 'patch_size'"
     ]
    }
   ],
   "source": [
    "learningRate = 0.001\n",
    "\n",
    "device = torch.device(\"cuda\" if torch.cuda.is_available() else \"cpu\")\n",
    "print(f\"Using device: {device}\")\n",
    "\n",
    "model = Patch().to(device)\n",
    "lossFn = nn.CrossEntropyLoss()\n",
    "opt = torch.optim.Adam(model.parameters(), lr=learningRate)   \n",
    " \n",
    "def accuracy(label, res, size=128):\n",
    "  res = (label==res)\n",
    "  \n",
    "  return res.sum()/size\n",
    "\n",
    "def fit_one_cycle(model, train, valid, opt, lossFn, writer, epoch):\n",
    "    model.train()\n",
    "    lossT = 0.0\n",
    "    accT = 0.0\n",
    "    \n",
    "    for batch in train:\n",
    "        inputs, labels = batch\n",
    "        inputs, labels = inputs.to(device), labels.to(device)\n",
    "        \n",
    "        opt.zero_grad()\n",
    "        res = model(inputs)\n",
    "        loss = lossFn(res,labels)\n",
    "        \n",
    "        loss.backward()\n",
    "        opt.step()\n",
    "        \n",
    "        lossT += loss.item()\n",
    "        _, index= torch.max(res, dim=1)\n",
    "        accT += accuracy(labels, index)\n",
    "        \n",
    "        opt.zero_grad()\n",
    "    \n",
    "    lossT /= len(train)\n",
    "    accT /= len(train)\n",
    "    \n",
    "    model.eval()\n",
    "    lossV = 0.0\n",
    "    accV = 0.0\n",
    "    \n",
    "    with torch.no_grad():\n",
    "        for batch in valid:\n",
    "            inputs, labels = batch\n",
    "            inputs, labels = inputs.to(device), labels.to(device)\n",
    "            \n",
    "            res = model(inputs)\n",
    "            loss = lossFn(res,labels)\n",
    "            \n",
    "            lossV += loss.item()\n",
    "            _, index= torch.max(res, dim=1)\n",
    "            accV += accuracy(labels, index)\n",
    "        \n",
    "        \n",
    "    lossV /= len(valid)\n",
    "    accV /= len(valid)\n",
    "    print(f\"Epoch {epoch+1}: Train Loss: {lossT:.4f}, Train Acc: {accT:.4f}, Val Loss: {lossV:.4f}, Val Acc: {accV:.4f}\")\n",
    "\n",
    "    writer.add_scalars('Loss', {'Train': lossT, 'Validation': lossV}, epoch)\n",
    "    writer.add_scalars('Accuracy', {'Train': accT, 'Validation': accV}, epoch)\n",
    "\n",
    "trainset = torchvision.datasets.CIFAR10(\n",
    "    root='./data',\n",
    "    train=True,\n",
    "    download=True,\n",
    "    transform=transforms.ToTensor()\n",
    ")\n",
    "valset = torchvision.datasets.CIFAR10(\n",
    "    root='./data',\n",
    "    train=False,\n",
    "    download=True,\n",
    "    transform=transforms.ToTensor()\n",
    ")\n",
    "train = torch.utils.data.DataLoader(trainset,\n",
    "                                    batch_size=128, \n",
    "                                    shuffle=True\n",
    "                                )\n",
    "valid = torch.utils.data.DataLoader(valset,\n",
    "                                    batch_size=128, \n",
    "                                    shuffle=False\n",
    "                                )\n",
    "\n",
    "epoch = 10\n",
    "writer = SummaryWriter(log_dir='./logs')\n",
    "for i in range(epoch):\n",
    "    fit_one_cycle(model, train, valid, opt, lossFn, writer, i)\n",
    "\n",
    "writer.close()"
   ]
  }
 ],
 "metadata": {
  "kernelspec": {
   "display_name": "Python 3",
   "language": "python",
   "name": "python3"
  },
  "language_info": {
   "codemirror_mode": {
    "name": "ipython",
    "version": 3
   },
   "file_extension": ".py",
   "mimetype": "text/x-python",
   "name": "python",
   "nbconvert_exporter": "python",
   "pygments_lexer": "ipython3",
   "version": "3.10.0"
  }
 },
 "nbformat": 4,
 "nbformat_minor": 2
}
